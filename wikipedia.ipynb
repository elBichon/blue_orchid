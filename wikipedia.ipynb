{
 "cells": [
  {
   "cell_type": "code",
   "execution_count": 1,
   "metadata": {
    "collapsed": true
   },
   "outputs": [],
   "source": [
    "import wikipedia\n",
    "import bs4 as bs \n",
    "import urllib.request\n",
    "from bs4 import BeautifulSoup\n",
    "import re\n",
    "import nltk\n",
    "from nltk.tokenize import sent_tokenize\n",
    "import pandas as pd\n",
    "from collections import OrderedDict"
   ]
  },
  {
   "cell_type": "code",
   "execution_count": 2,
   "metadata": {
    "collapsed": true
   },
   "outputs": [],
   "source": [
    "def get_category(language, subject):\n",
    "    wikipedia.set_lang(language)\n",
    "    source = urllib.request.urlopen(wikipedia.page(subject).url).read()\n",
    "    soup = bs.BeautifulSoup(source,'lxml')\n",
    "    soup_txt = str(soup.body)\n",
    "    category = []\n",
    "    for each_span in soup.find_all('span', {'class':'mw-headline'}):\n",
    "        soup = BeautifulSoup(str(each_span).replace(' ','_'), \"html.parser\").getText()\n",
    "        category.append(soup)\n",
    "    return category\n",
    "\n",
    "def get_data(language, subject):\n",
    "    wikipedia.set_lang(language)\n",
    "    source = urllib.request.urlopen(wikipedia.page(subject).url).read()\n",
    "    soup = bs.BeautifulSoup(source,'lxml')\n",
    "    soup_txt = str(soup.body)\n",
    "    div = []\n",
    "    for each_span in soup.find_all('span', {'class':'mw-headline'}):\n",
    "        str(each_span).replace(' ','_')\n",
    "        div.append(str(each_span))\n",
    "    filter_tag = []\n",
    "    i = 0\n",
    "    while i < len(div)-1:\n",
    "        start = div[i]\n",
    "        end = div[i+1]\n",
    "        text = soup_txt[soup_txt.find(start)+len(start):soup_txt.rfind(end)]\n",
    "        soup = str(BeautifulSoup(text, \"html.parser\"))\n",
    "        soup = re.sub(\"([\\(\\[]).*?([\\)\\]])\", \"\\g<1>\\g<2>\", soup)\n",
    "        soup = BeautifulSoup(soup, \"html.parser\")\n",
    "        soup = re.compile(r'<img.*?/>').sub('', str(soup.find_all('p')))\n",
    "        soup = BeautifulSoup(soup, \"html.parser\")\n",
    "        soup = (re.sub(\"[^a-zA-Z,.;:!0-9]\",\" \",soup.getText()).replace('[','').replace(']','').lstrip().rstrip())    \n",
    "        clean_text = re.sub(' +', ' ',soup)  \n",
    "        filter_tag.append(clean_text)\n",
    "        i += 1\n",
    "    return filter_tag"
   ]
  },
  {
   "cell_type": "code",
   "execution_count": 3,
   "metadata": {
    "collapsed": true
   },
   "outputs": [],
   "source": [
    "language = 'en'\n",
    "subject = 'polish hussars'\n",
    "category = get_category(language, subject)\n",
    "filter_tag = get_data(language, subject)\n",
    "filtered_text = []\n",
    "len_list = []\n",
    "\n",
    "i = 0 \n",
    "while i < len(filter_tag):\n",
    "    text = sent_tokenize(filter_tag[i])\n",
    "    filtered_text.append(text)\n",
    "    len_list.append(len(filtered_text[i]))\n",
    "    i += 1"
   ]
  },
  {
   "cell_type": "code",
   "execution_count": 4,
   "metadata": {
    "collapsed": true
   },
   "outputs": [],
   "source": [
    "i = 0\n",
    "label_list = []\n",
    "while i < len(len_list):\n",
    "    j = 0\n",
    "    if len_list[i] != 0:\n",
    "        while j != len_list[i]:\n",
    "            label_list.append(category[i])\n",
    "            j += 1\n",
    "    i += 1"
   ]
  },
  {
   "cell_type": "code",
   "execution_count": 5,
   "metadata": {},
   "outputs": [
    {
     "name": "stdout",
     "output_type": "stream",
     "text": [
      "83\n",
      "83\n"
     ]
    }
   ],
   "source": [
    "flat_list = [item for sublist in filtered_text for item in sublist]"
   ]
  },
  {
   "cell_type": "code",
   "execution_count": 7,
   "metadata": {},
   "outputs": [
    {
     "name": "stdout",
     "output_type": "stream",
     "text": [
      "<bound method Series.unique of 0                 History\n",
      "1                 History\n",
      "2                 History\n",
      "3                 History\n",
      "4                 History\n",
      "5                 History\n",
      "6                 History\n",
      "7                 History\n",
      "8                 History\n",
      "9                 History\n",
      "10                History\n",
      "11                History\n",
      "12                History\n",
      "13                History\n",
      "14                History\n",
      "15                History\n",
      "16                History\n",
      "17                History\n",
      "18                History\n",
      "19                History\n",
      "20                History\n",
      "21                History\n",
      "22                History\n",
      "23                History\n",
      "24                History\n",
      "25                History\n",
      "26                History\n",
      "27                History\n",
      "28                History\n",
      "29                History\n",
      "             ...         \n",
      "53    Armour_and_weaponry\n",
      "54    Armour_and_weaponry\n",
      "55    Armour_and_weaponry\n",
      "56    Armour_and_weaponry\n",
      "57    Armour_and_weaponry\n",
      "58    Armour_and_weaponry\n",
      "59    Armour_and_weaponry\n",
      "60    Armour_and_weaponry\n",
      "61    Armour_and_weaponry\n",
      "62    Armour_and_weaponry\n",
      "63    Armour_and_weaponry\n",
      "64    Armour_and_weaponry\n",
      "65    Armour_and_weaponry\n",
      "66    Armour_and_weaponry\n",
      "67    Armour_and_weaponry\n",
      "68    Armour_and_weaponry\n",
      "69    Armour_and_weaponry\n",
      "70    Armour_and_weaponry\n",
      "71    Armour_and_weaponry\n",
      "72    Armour_and_weaponry\n",
      "73    Armour_and_weaponry\n",
      "74    Armour_and_weaponry\n",
      "75    Armour_and_weaponry\n",
      "76    Armour_and_weaponry\n",
      "77    Armour_and_weaponry\n",
      "78    Armour_and_weaponry\n",
      "79                 Legacy\n",
      "80                 Legacy\n",
      "81                 Legacy\n",
      "82                 Legacy\n",
      "Name: label, Length: 83, dtype: object>\n",
      "     label                                               text\n",
      "0  History  Hussars originated in mercenary units of exile...\n",
      "1  History  Serbian lancers, also called Racowie, were use...\n",
      "2  History  The oldest mention of hussars in Polish docume...\n",
      "3  History  In the 15th century, light hussars based on th...\n",
      "4  History  The Polish Hussars were originally based on th...\n",
      "                  label                                               text\n",
      "78  Armour_and_weaponry   Towarzysz usually wore a leopard citation needed\n",
      "79               Legacy  The Polish hussars are depicted on the commemo...\n",
      "80               Legacy  The badge of the Polish Army s 1st Armoured Di...\n",
      "81               Legacy  , Swedish power metal band Sabaton wrote a son...\n",
      "82               Legacy  , In the 2004 film Collateral, Vincent remarks...\n"
     ]
    }
   ],
   "source": [
    "data = {'text': flat_list,\n",
    "         'label': label_list}\n",
    "df = pd.DataFrame.from_dict(data)"
   ]
  },
  {
   "cell_type": "code",
   "execution_count": null,
   "metadata": {
    "collapsed": true
   },
   "outputs": [],
   "source": []
  }
 ],
 "metadata": {
  "kernelspec": {
   "display_name": "Python 3",
   "language": "python",
   "name": "python3"
  },
  "language_info": {
   "codemirror_mode": {
    "name": "ipython",
    "version": 3
   },
   "file_extension": ".py",
   "mimetype": "text/x-python",
   "name": "python",
   "nbconvert_exporter": "python",
   "pygments_lexer": "ipython3",
   "version": "3.6.7"
  }
 },
 "nbformat": 4,
 "nbformat_minor": 2
}
