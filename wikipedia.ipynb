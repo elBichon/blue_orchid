{
 "cells": [
  {
   "cell_type": "code",
   "execution_count": 1,
   "metadata": {
    "scrolled": true
   },
   "outputs": [
    {
     "name": "stderr",
     "output_type": "stream",
     "text": [
      "/home/jeanedouard-rgz/anaconda3/lib/python3.6/site-packages/sklearn/ensemble/weight_boosting.py:29: DeprecationWarning: numpy.core.umath_tests is an internal NumPy module and should not be imported. It will be removed in a future NumPy release.\n",
      "  from numpy.core.umath_tests import inner1d\n"
     ]
    }
   ],
   "source": [
    "import wikipedia\n",
    "import bs4 as bs \n",
    "import urllib.request\n",
    "from bs4 import BeautifulSoup\n",
    "import re\n",
    "import spacy\n",
    "import pandas as pd\n",
    "import matplotlib.pyplot as plt\n",
    "import seaborn as sns\n",
    "import numpy as np\n",
    "import pickle\n",
    "from sklearn.feature_extraction.text import CountVectorizer\n",
    "from sklearn.ensemble import RandomForestClassifier\n",
    "from utils import *\n"
   ]
  },
  {
   "cell_type": "code",
   "execution_count": 2,
   "metadata": {
    "collapsed": true
   },
   "outputs": [],
   "source": [
    "def get_category(language, subject):\n",
    "    wikipedia.set_lang(language)\n",
    "    source = urllib.request.urlopen(wikipedia.page(subject).url).read()\n",
    "    soup = bs.BeautifulSoup(source,'lxml')\n",
    "    soup_txt = str(soup.body)\n",
    "    category = []\n",
    "    for each_span in soup.find_all('span', {'class':'mw-headline'}):\n",
    "        soup = BeautifulSoup(str(each_span).replace(' ','_'), \"html.parser\").getText()\n",
    "        category.append(soup)\n",
    "    return category\n",
    "\n",
    "def get_data(language, subject):\n",
    "    wikipedia.set_lang(language)\n",
    "    source = urllib.request.urlopen(wikipedia.page(subject).url).read()\n",
    "    soup = bs.BeautifulSoup(source,'lxml')\n",
    "    soup_txt = str(soup.body)\n",
    "    div = []\n",
    "    for each_span in soup.find_all('span', {'class':'mw-headline'}):\n",
    "        str(each_span).replace(' ','_')\n",
    "        div.append(str(each_span))\n",
    "    filter_tag = []\n",
    "    i = 0\n",
    "    while i < len(div)-1:\n",
    "        start = div[i]\n",
    "        end = div[i+1]\n",
    "        text = soup_txt[soup_txt.find(start)+len(start):soup_txt.rfind(end)]\n",
    "        soup = str(BeautifulSoup(text, \"html.parser\"))\n",
    "        soup = re.sub(\"([\\(\\[]).*?([\\)\\]])\", \"\\g<1>\\g<2>\", soup)\n",
    "        soup = BeautifulSoup(soup, \"html.parser\")\n",
    "        soup = re.compile(r'<img.*?/>').sub('', str(soup.find_all('p')))\n",
    "        soup = BeautifulSoup(soup, \"html.parser\")\n",
    "        soup = (re.sub(\"[^a-zA-Z,.;:!0-9]\",\" \",soup.getText()).replace('[','').replace(']','').lstrip().rstrip().lower())    \n",
    "        clean_text = re.sub(' +', ' ',soup).replace(',',' ')\n",
    "        filter_tag.append(clean_text)        \n",
    "        i += 1\n",
    "    return filter_tag\n",
    "\n",
    "\n",
    "def get_len_list(filter_tag):\n",
    "    filtered_text = []\n",
    "    len_list = []\n",
    "    i = 0 \n",
    "    while i < len(filter_tag):\n",
    "        doc = nlp(filter_tag[i])\n",
    "        text = [sent.string.strip() for sent in doc.sents]\n",
    "        filtered_text.append(text)\n",
    "        len_list.append(len(filtered_text[i]))\n",
    "        i += 1\n",
    "    return filtered_text,len_list\n",
    "\n",
    "def generate_dataset(len_list, category):\n",
    "    i = 0\n",
    "    label_list = []\n",
    "    while i < len(len_list):\n",
    "        j = 0\n",
    "        if len_list[i] != 0:\n",
    "            while j != len_list[i]:\n",
    "                label_list.append(category[i].lower())\n",
    "                j += 1\n",
    "        i += 1\n",
    "    flat_list = [item for sublist in  get_len_list(get_data(language, subject))[0] for item in sublist]\n",
    "    data = {'text': flat_list,'label': label_list}\n",
    "    df = pd.DataFrame.from_dict(data)\n",
    "\n",
    "    print(df.head())\n",
    "    print('Repartition of labels:', df['label'].iloc[0])\n",
    "    print('Data Shape:', df.shape)\n",
    "    return df\n",
    "\n",
    "def get_stop_words(language):\n",
    "    if language == 'en':\n",
    "        spacy_stopwords = spacy.lang.en.stop_words.STOP_WORDS\n",
    "    if language == 'fr':\n",
    "        spacy_stopwords = spacy.lang.fr.stop_words.STOP_WORDS\n",
    "    if language == 'de':\n",
    "        spacy_stopwords = spacy.lang.de.stop_words.STOP_WORDS\n",
    "    if language == 'es':\n",
    "        spacy_stopwords = spacy.lang.es.stop_words.STOP_WORDS\n",
    "    if language == 'pt':\n",
    "        spacy_stopwords = spacy.lang.pt.stop_words.STOP_WORDS\n",
    "    if language == 'it':\n",
    "        spacy_stopwords = spacy.lang.it.stop_words.STOP_WORDS\n",
    "    if language == 'nl':\n",
    "        spacy_stopwords = spacy.lang.nl.stop_words.STOP_WORDS\n",
    "    return spacy_stopwords\n",
    "\n",
    "def clean_dataset(language, df):\n",
    "    srce_labels = df.label.values.tolist()\n",
    "    srce_text = df.text.values.tolist()\n",
    "    spacy_stopwords = get_stop_words(language)\n",
    "    clean_text = []\n",
    "    text = []\n",
    "    \n",
    "    i = 0\n",
    "    while i < len(srce_text):\n",
    "        extract = []\n",
    "        doc = nlp(srce_text[i])\n",
    "        for token in doc:\n",
    "            extract.append(token.lemma_)\n",
    "        clean_text.append(\",\".join(extract).replace(\",\",\" \").replace(\"   \",\" \"))\n",
    "        i += 1\n",
    "    print('Number of stop words: %d' % len(spacy_stopwords))\n",
    "    i = 0\n",
    "    while i < len(clean_text):\n",
    "        doc = nlp(clean_text[i])\n",
    "        tokens = [token.text for token in doc if not token.is_stop]\n",
    "        text.append(\",\".join(tokens).replace(\",\",\" \").replace(\"  \",\" \").replace(\"    \",\" \").replace(\"-PRON-\",\" \").rstrip().lstrip())\n",
    "        i += 1\n",
    "    data = {'text': text,'label': srce_labels}\n",
    "    df = pd.DataFrame.from_dict(data)\n",
    "    df = df.dropna()\n",
    "    return df\n",
    "\n",
    "def create_model(df):\n",
    "    print(\"Creating the bag of words...\\n\")\n",
    "    vectorizer = CountVectorizer(analyzer = \"word\",   \\\n",
    "                                 tokenizer = None,    \\\n",
    "                                 preprocessor = None, \\\n",
    "                                 stop_words = None,   \\\n",
    "                                 max_features = 5000) \n",
    "    train_data_features = vectorizer.fit_transform(df.text.values.tolist())\n",
    "    train_data_features = train_data_features.toarray()\n",
    "    print(train_data_features.shape)\n",
    "    vocab = vectorizer.get_feature_names()\n",
    "    dist = np.sum(train_data_features, axis=0)\n",
    "    print(\"Training the random forest...\")\n",
    "    forest = RandomForestClassifier(n_estimators = 100) \n",
    "    forest = forest.fit(train_data_features, df[\"label\"])\n",
    "    filename = language+\"_\"+subject.replace(\" \",\"_\")+'.sav'\n",
    "    pickle.dump(forest, open(filename, 'wb'))\n",
    "    print('saving model as: '+filename)\n",
    "    \n",
    "def call_model(csv_file, model_file, text):\n",
    "    extract = []\n",
    "    clean_text = []\n",
    "    clean_test_reviews = []\n",
    "    spacy_stopwords = get_stop_words(language)\n",
    "    print(\"Creating the bag of words...\\n\")\n",
    "    df = pd.read_csv(csv_file) \n",
    "    df = df.dropna()\n",
    "    vectorizer = CountVectorizer(analyzer = \"word\",   \\\n",
    "                                 tokenizer = None,    \\\n",
    "                                 preprocessor = None, \\\n",
    "                                 stop_words = None,   \\\n",
    "                                 max_features = 5000) \n",
    "    train_data_features = vectorizer.fit_transform(df.text.values.tolist())\n",
    "    train_data_features = train_data_features.toarray()\n",
    "    print(train_data_features.shape)\n",
    "    vocab = vectorizer.get_feature_names()\n",
    "    dist = np.sum(train_data_features, axis=0)\n",
    "    doc = nlp(text)\n",
    "    for token in doc:\n",
    "        extract.append(token.lemma_)\n",
    "        clean_text.append(\",\".join(extract).replace(\",\",\" \").replace(\"   \",\" \"))\n",
    "    print('Number of stop words: %d' % len(spacy_stopwords))\n",
    "    i = 0\n",
    "    while i < len(clean_text):\n",
    "        doc = nlp(clean_text[i])\n",
    "        tokens = [token.text for token in doc if not token.is_stop]\n",
    "        i += 1\n",
    "    clean_test_reviews.append(\",\".join(tokens).replace(\",\",\" \").replace(\"  \",\" \").replace(\"    \",\" \").replace(\"-PRON-\",\" \").rstrip().lstrip())\n",
    "    test_data_features = vectorizer.transform(clean_test_reviews)\n",
    "    test_data_features = test_data_features.toarray()\n",
    "    loaded_model = pickle.load(open(model_file, 'rb'))\n",
    "    result = loaded_model.predict(test_data_features)\n",
    "    return result"
   ]
  },
  {
   "cell_type": "code",
   "execution_count": 3,
   "metadata": {},
   "outputs": [
    {
     "name": "stdout",
     "output_type": "stream",
     "text": [
      "     label                                               text\n",
      "0  history  hussars originated in mercenary units of exile...\n",
      "1  history  serbian lancers  also called racowie  were use...\n",
      "2  history  the oldest mention of hussars in polish docume...\n",
      "3  history  in the 15th century  light hussars based on th...\n",
      "4  history  the polish hussars were originally based on th...\n",
      "Repartition of labels: history\n",
      "Data Shape: (91, 2)\n",
      "Number of stop words: 305\n",
      "saving dataframe as:  en_polish_hussars.csv\n"
     ]
    },
    {
     "data": {
      "image/png": "[encoded data removed]",
      "text/plain": [
       "<Figure size 576x288 with 1 Axes>"
      ]
     },
     "metadata": {},
     "output_type": "display_data"
    },
    {
     "name": "stdout",
     "output_type": "stream",
     "text": [
      "Creating the bag of words...\n",
      "\n",
      "(91, 535)\n",
      "Training the random forest...\n",
      "saving model as: en_polish_hussars.sav\n"
     ]
    }
   ],
   "source": [
    "language = 'en'\n",
    "subject = 'polish hussars'\n",
    "nlp = spacy.load(language)\n",
    "df = generate_dataset(get_len_list(get_data(language, subject))[1], get_category(language, subject))\n",
    "df = clean_dataset(language, df)\n",
    "file_name = language+\"_\"+subject.replace(\" \",\"_\")+'.csv'\n",
    "print('saving dataframe as: ',file_name)\n",
    "df.to_csv(file_name, sep=',', encoding='utf-8')\n",
    "fig = plt.figure(figsize=(8,4))\n",
    "sns.barplot(x = df['label'].unique(), y=df['label'].value_counts())\n",
    "plt.show()\n",
    "\n",
    "forest = create_model(df)"
   ]
  },
  {
   "cell_type": "code",
   "execution_count": 4,
   "metadata": {},
   "outputs": [
    {
     "name": "stdout",
     "output_type": "stream",
     "text": [
      "Creating the bag of words...\n",
      "\n",
      "(91, 535)\n",
      "Number of stop words: 305\n"
     ]
    }
   ],
   "source": [
    "result = call_model('en_polish_hussars.csv','en_polish_hussars.sav', 'hussar originate mercenary unit exile serbian warrior')"
   ]
  },
  {
   "cell_type": "code",
   "execution_count": 5,
   "metadata": {},
   "outputs": [
    {
     "name": "stdout",
     "output_type": "stream",
     "text": [
      "['history']\n"
     ]
    }
   ],
   "source": [
    "print(result)"
   ]
  },
  {
   "cell_type": "code",
   "execution_count": null,
   "metadata": {
    "collapsed": true
   },
   "outputs": [],
   "source": []
  }
 ],
 "metadata": {
  "kernelspec": {
   "display_name": "Python 3",
   "language": "python",
   "name": "python3"
  },
  "language_info": {
   "codemirror_mode": {
    "name": "ipython",
    "version": 3
   },
   "file_extension": ".py",
   "mimetype": "text/x-python",
   "name": "python",
   "nbconvert_exporter": "python",
   "pygments_lexer": "ipython3",
   "version": "3.6.7"
  }
 },
 "nbformat": 4,
 "nbformat_minor": 2
}
